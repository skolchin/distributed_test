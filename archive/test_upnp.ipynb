{
 "cells": [
  {
   "cell_type": "code",
   "execution_count": 1,
   "id": "95cc5f68",
   "metadata": {},
   "outputs": [],
   "source": [
    "import upnpy"
   ]
  },
  {
   "cell_type": "code",
   "execution_count": 6,
   "id": "861b418c",
   "metadata": {},
   "outputs": [
    {
     "data": {
      "text/plain": [
       "[<Service (Layer3Forwarding) id=\"L3Forwarding1\">,\n",
       " <Service (WANCommonInterfaceConfig) id=\"WANCommonIFC1\">,\n",
       " <Service (WANIPConnection) id=\"WANIPConn1\">]"
      ]
     },
     "execution_count": 6,
     "metadata": {},
     "output_type": "execute_result"
    }
   ],
   "source": [
    "upnp = upnpy.UPnP()\n",
    "upnp.discover()\n",
    "device = upnp.get_igd()\n",
    "device.get_services()"
   ]
  },
  {
   "cell_type": "code",
   "execution_count": 8,
   "id": "20ff1caf",
   "metadata": {},
   "outputs": [
    {
     "data": {
      "text/plain": [
       "[<Action name=\"SetConnectionType\">,\n",
       " <Action name=\"GetConnectionTypeInfo\">,\n",
       " <Action name=\"RequestConnection\">,\n",
       " <Action name=\"ForceTermination\">,\n",
       " <Action name=\"GetStatusInfo\">,\n",
       " <Action name=\"GetNATRSIPStatus\">,\n",
       " <Action name=\"GetGenericPortMappingEntry\">,\n",
       " <Action name=\"GetSpecificPortMappingEntry\">,\n",
       " <Action name=\"AddPortMapping\">,\n",
       " <Action name=\"DeletePortMapping\">,\n",
       " <Action name=\"GetExternalIPAddress\">]"
      ]
     },
     "execution_count": 8,
     "metadata": {},
     "output_type": "execute_result"
    }
   ],
   "source": [
    "service = device['WANIPConn1']\n",
    "service.get_actions()"
   ]
  },
  {
   "cell_type": "code",
   "execution_count": 13,
   "id": "faeaeee8",
   "metadata": {},
   "outputs": [
    {
     "data": {
      "text/plain": [
       "{'NewConnectionStatus': 'Connected',\n",
       " 'NewLastConnectionError': 'ERROR_NONE',\n",
       " 'NewUptime': '1402682'}"
      ]
     },
     "execution_count": 13,
     "metadata": {},
     "output_type": "execute_result"
    }
   ],
   "source": [
    "service.GetStatusInfo()"
   ]
  },
  {
   "cell_type": "code",
   "execution_count": 9,
   "id": "e5013189",
   "metadata": {},
   "outputs": [
    {
     "data": {
      "text/plain": [
       "{'NewExternalIPAddress': '95.31.13.220'}"
      ]
     },
     "execution_count": 9,
     "metadata": {},
     "output_type": "execute_result"
    }
   ],
   "source": [
    "service.GetExternalIPAddress()"
   ]
  }
 ],
 "metadata": {
  "kernelspec": {
   "display_name": ".venv",
   "language": "python",
   "name": "python3"
  },
  "language_info": {
   "codemirror_mode": {
    "name": "ipython",
    "version": 3
   },
   "file_extension": ".py",
   "mimetype": "text/x-python",
   "name": "python",
   "nbconvert_exporter": "python",
   "pygments_lexer": "ipython3",
   "version": "3.12.10"
  }
 },
 "nbformat": 4,
 "nbformat_minor": 5
}
